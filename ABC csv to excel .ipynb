{
 "cells": [
  {
   "cell_type": "code",
   "execution_count": 24,
   "id": "5c3cf941",
   "metadata": {},
   "outputs": [],
   "source": [
    "import pandas as pd\n",
    "import os\n",
    "\n",
    "def process_csv_folder(input_folder):\n",
    "    # Initialize an empty DataFrame to store combined data\n",
    "    #combined_df = pd.DataFrame()\n",
    "\n",
    "    # Get the folder name\n",
    "    folder_name = os.path.basename(input_folder)\n",
    "    #print(folder_name)\n",
    "\n",
    "    # Loop through all CSV files in the folder\n",
    "    for filename in os.listdir(input_folder):\n",
    "        if filename.endswith(\".csv\"):\n",
    "            # Construct the full path to the CSV file\n",
    "            csv_path = os.path.join(input_folder, filename)\n",
    "\n",
    "            # Read CSV file\n",
    "            df = pd.read_csv(csv_path)\n",
    "            #print(df)\n",
    "            #Select columns\n",
    "            df = df[['title', '3_Date', '2_Time', 'lat_6_Location', 'long_6_Location', '5_Weather_beginning_', '4_Observer', '14_Encounter_Number', '12_Single_or_multisp', '15_Focal', '16_Secondary', '17_Tertiary', '18_Soundscape', '19_Group_Size', '21_Behaviour', '22_Estimate_distance','23_Comments','24_Camera_settings_g','25_Data_Quality']]\n",
    "            df = df.rename(columns={'title': 'Common name', '3_Date': 'Date', '2_Time': 'Time','lat_6_Location': 'Latitude', 'long_6_Location': 'Longitude', '5_Weather_beginning_': 'Weather', '4_Observer': 'Observer', '14_Encounter_Number': 'Encounter number', '12_Single_or_multisp': 'Single or multi-species', '15_Focal': 'Focal sp.', '16_Secondary': 'Secondary sp.', '17_Tertiary': 'Tertiary sp.', '18_Soundscape': 'Soundscape', '19_Group_Size': 'Group size', '21_Behaviour': 'Behaviour', '22_Estimate_distance': 'Estimate distance from observer', '23_Comments': 'Comments', '24_Camera_settings_g': 'Camera settings', '25_Data_Quality': 'Data quality'})\n",
    "            df.insert(9, 'Field code', folder_name)\n",
    "            df = df.sort_values(by='Encounter number')\n",
    "\n",
    "           \n",
    "\n",
    "            #print(df)\n",
    "\n",
    "    # Save the combined DataFrame to Excel\n",
    "    df.to_excel(input_folder_path + '/' + folder_name + '.xlsx', index=False)\n",
    "\n",
    "# Example usage:\n",
    "input_folder_path = 'D:/Postdoc/2_ABC/ABC Scientific Collection of Sounds'  # Replace with your desired folder path\n",
    "\n",
    "process_csv_folder(input_folder_path)\n",
    "\n"
   ]
  }
 ],
 "metadata": {
  "kernelspec": {
   "display_name": "Python 3 (ipykernel)",
   "language": "python",
   "name": "python3"
  },
  "language_info": {
   "codemirror_mode": {
    "name": "ipython",
    "version": 3
   },
   "file_extension": ".py",
   "mimetype": "text/x-python",
   "name": "python",
   "nbconvert_exporter": "python",
   "pygments_lexer": "ipython3",
   "version": "3.9.12"
  }
 },
 "nbformat": 4,
 "nbformat_minor": 5
}
